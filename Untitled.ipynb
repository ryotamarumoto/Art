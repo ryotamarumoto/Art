{
 "cells": [
  {
   "cell_type": "code",
   "execution_count": null,
   "id": "ae9db7d6-1cd3-4786-b2a4-ea531c2c4a68",
   "metadata": {},
   "outputs": [],
   "source": [
    "import torch\n",
    "import torchvision\n",
    "\n",
    "from src.basic_cppn.config import get_config\n",
    "from src.basic_cppn.models import CPPN\n",
    "from utils import get_coordinates\n",
    "\n",
    "\n",
    "def main():\n",
    "    config = get_config()\n",
    "    print(config)\n",
    "\n",
    "    device = 'cuda:0' if torch.cuda.is_available() else 'cpu'\n",
    "    config.device = device\n",
    "    print(f'device: {config.device}')\n",
    "\n",
    "    model = CPPN(config).to(device)\n",
    "\n",
    "    x, y, r = get_coordinates(config.dim_x, config.dim_y, config.scale)\n",
    "    x, y, r = x.to(config.device), y.to(config.device), r.to(config.device)\n",
    "\n",
    "    z = torch.randn(1, config.dim_z).to(device)\n",
    "    scale = torch.ones((config.dim_x * config.dim_y, 1)).to(config.device)\n",
    "    z_scaled = torch.matmul(scale, z)\n",
    "\n",
    "    result = model(z_scaled, x, y, r)\n",
    "    result = result.view(-1, config.dim_x, config.dim_y, config.dim_c).cpu()\n",
    "    result = result.permute((0, 3, 1, 2))\n",
    "    torchvision.utils.save_image(torchvision.utils.make_grid(result), 'sample.jpg')\n",
    "\n",
    "\n",
    "if __name__ == \"__main__\":\n",
    "    main()"
   ]
  },
  {
   "cell_type": "code",
   "execution_count": null,
   "id": "83c899e1-174e-4725-a731-96beed192a89",
   "metadata": {},
   "outputs": [],
   "source": []
  }
 ],
 "metadata": {
  "kernelspec": {
   "display_name": "Python 3 (ipykernel)",
   "language": "python",
   "name": "python3"
  },
  "language_info": {
   "codemirror_mode": {
    "name": "ipython",
    "version": 3
   },
   "file_extension": ".py",
   "mimetype": "text/x-python",
   "name": "python",
   "nbconvert_exporter": "python",
   "pygments_lexer": "ipython3",
   "version": "3.8.13"
  }
 },
 "nbformat": 4,
 "nbformat_minor": 5
}
