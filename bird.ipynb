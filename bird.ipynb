{
 "cells": [
  {
   "cell_type": "code",
   "execution_count": 2,
   "id": "b6eb531a-40b8-46f1-aa69-653be2a4acb8",
   "metadata": {},
   "outputs": [],
   "source": [
    "import numpy as np\n",
    "import matplotlib.pyplot as plt\n",
    "from tqdm import tqdm"
   ]
  },
  {
   "cell_type": "code",
   "execution_count": null,
   "id": "45b315d9-ed4f-40aa-b85c-35ff08f45457",
   "metadata": {},
   "outputs": [],
   "source": [
    "iteration=1000000\n",
    "h=0.001\n",
    "x_0=1\n",
    "y_0=1\n",
    "\n",
    "x=[x_0]\n",
    "y=[y_0]\n",
    "\n",
    "def forward(x, y, h):\n",
    "    x_i=x\n",
    "    y_i=y\n",
    "    \n",
    "    x_iplus1=y_i-0.97*x_i+5/(1+x_i**2)-5\n",
    "    y_iplus1=-0.995*x_i\n",
    "    \n",
    "    return x_iplus1, y_iplus1\n",
    "\n",
    "for i in tqdm(range(iteration)):\n",
    "    x_iplus1, y_iplus1 = forward(x[i], y[i], h)\n",
    "    x.append(x_iplus1)\n",
    "    y.append(y_iplus1)\n",
    "    \n",
    "fig = plt.figure(figsize=(10, 4))\n",
    "ax = fig.subplots()\n",
    "ax.scatter(x, y, s=0.01, color='black')"
   ]
  },
  {
   "cell_type": "code",
   "execution_count": null,
   "id": "94374319-2045-4864-89be-5dc348410251",
   "metadata": {},
   "outputs": [],
   "source": []
  }
 ],
 "metadata": {
  "kernelspec": {
   "display_name": "Python 3 (ipykernel)",
   "language": "python",
   "name": "python3"
  },
  "language_info": {
   "codemirror_mode": {
    "name": "ipython",
    "version": 3
   },
   "file_extension": ".py",
   "mimetype": "text/x-python",
   "name": "python",
   "nbconvert_exporter": "python",
   "pygments_lexer": "ipython3",
   "version": "3.8.13"
  }
 },
 "nbformat": 4,
 "nbformat_minor": 5
}
