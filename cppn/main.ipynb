{
 "cells": [
  {
   "cell_type": "code",
   "execution_count": 1,
   "id": "8a72825d-dc14-4875-a32d-bfead25dedc7",
   "metadata": {},
   "outputs": [
    {
     "ename": "ModuleNotFoundError",
     "evalue": "No module named 'sampler'",
     "output_type": "error",
     "traceback": [
      "\u001b[0;31m---------------------------------------------------------------------------\u001b[0m",
      "\u001b[0;31mModuleNotFoundError\u001b[0m                       Traceback (most recent call last)",
      "Cell \u001b[0;32mIn [1], line 1\u001b[0m\n\u001b[0;32m----> 1\u001b[0m \u001b[38;5;28;01mfrom\u001b[39;00m \u001b[38;5;21;01msampler\u001b[39;00m \u001b[38;5;28;01mimport\u001b[39;00m Sampler\n\u001b[1;32m      3\u001b[0m \u001b[38;5;28;01mif\u001b[39;00m \u001b[38;5;18m__name__\u001b[39m \u001b[38;5;241m==\u001b[39m \u001b[38;5;124m'\u001b[39m\u001b[38;5;124m__main__\u001b[39m\u001b[38;5;124m'\u001b[39m:\n\u001b[1;32m      4\u001b[0m     \u001b[38;5;66;03m########## Test CPPN ##########\u001b[39;00m\n\u001b[1;32m      5\u001b[0m     \u001b[38;5;66;03m# sampler = Sampler(model_type='CPPN', z_dim=4, c_dim=3, scale=8.0, net_size=32)\u001b[39;00m\n\u001b[0;32m   (...)\u001b[0m\n\u001b[1;32m     19\u001b[0m \n\u001b[1;32m     20\u001b[0m     \u001b[38;5;66;03m########## Test RPNN ##########\u001b[39;00m\n\u001b[1;32m     21\u001b[0m     sampler \u001b[38;5;241m=\u001b[39m Sampler(model_type\u001b[38;5;241m=\u001b[39m\u001b[38;5;124m'\u001b[39m\u001b[38;5;124mRPPN\u001b[39m\u001b[38;5;124m'\u001b[39m, z_dim\u001b[38;5;241m=\u001b[39m\u001b[38;5;241m4\u001b[39m, c_dim\u001b[38;5;241m=\u001b[39m\u001b[38;5;241m3\u001b[39m, scale\u001b[38;5;241m=\u001b[39m\u001b[38;5;241m4.0\u001b[39m, net_size\u001b[38;5;241m=\u001b[39m\u001b[38;5;241m32\u001b[39m)\n",
      "\u001b[0;31mModuleNotFoundError\u001b[0m: No module named 'sampler'"
     ]
    }
   ],
   "source": [
    "from sampler import Sampler\n",
    "\n",
    "if __name__ == '__main__':\n",
    "    ########## Test CPPN ##########\n",
    "    # sampler = Sampler(model_type='CPPN', z_dim=4, c_dim=3, scale=8.0, net_size=32)\n",
    "\n",
    "    ########## Test different resolutions ##########\n",
    "    # z1 = sampler.generate_z()\n",
    "    # img = sampler.generate(z1, 256, 256)\n",
    "    # sampler.save_png(img, 'img_256.png')\n",
    "    # img = sampler.generate(z1, 512, 512)\n",
    "    # sampler.save_png(img, 'img_512.png')\n",
    "\n",
    "    ########## Generate several wallpapers ##########\n",
    "    # for i in range(10):\n",
    "    #     sampler.reinit()\n",
    "    #     img = sampler.generate(None, 2880, 1800)\n",
    "    #     sampler.save_png(img, 'img{}_2880_1800.png'.format(i + 1))\n",
    "\n",
    "    ########## Test RPNN ##########\n",
    "    sampler = Sampler(model_type='RPPN', z_dim=4, c_dim=3, scale=4.0, net_size=32)\n",
    "\n",
    "    ########## Test different resolutions ##########\n",
    "    # z1 = sampler.generate_z()\n",
    "    # img1 = sampler.generate(z1, 256, 256)\n",
    "    # sampler.save_png(img1, 'img_k3_256.png')\n",
    "    # img2 = sampler.generate(z1, 512, 512)\n",
    "    # sampler.save_png(img2, 'img_k3_512.png')\n",
    "\n",
    "    ########## Test different number of repetitions ##########\n",
    "    # z1 = sampler.generate_z()\n",
    "    # img1 = sampler.generate(z1, 256, 256, k=0)\n",
    "    # sampler.save_png(img1, 'img_k0_256.png')\n",
    "    # img2 = sampler.generate(z1, 256, 256, k=1)\n",
    "    # sampler.save_png(img2, 'img_k1_256.png')\n",
    "    # img3 = sampler.generate(z1, 256, 256, k=2)\n",
    "    # sampler.save_png(img3, 'img_k2_256.png')\n",
    "    # img4 = sampler.generate(z1, 256, 256, k=3)\n",
    "    # sampler.save_png(img4, 'img_k3_256.png')\n",
    "    # img5 = sampler.generate(z1, 256, 256, k=4)\n",
    "    # sampler.save_png(img5, 'img_k4_256.png')\n",
    "    # img6 = sampler.generate(z1, 256, 256, k=5)\n",
    "    # sampler.save_png(img6, 'img_k5_256.png')\n",
    "\n",
    "    ########## Test gif with different number of repetitions ##########\n",
    "    z1 = sampler.generate_z()\n",
    "    sampler.save_anim_gif(z1, z1, 'anim_k0_k24_256.gif', n_frame=24, duration1=0.5, \\\n",
    "                     duration2=1.0, duration=0.2, x_dim=256, y_dim=256, scale=4.0, k1=0, k2=24, reverse=True)\n",
    "\n",
    "    ########## Test mp4 with different number of repetitions ##########\n",
    "    # z1 = sampler.generate_z()\n",
    "    # sampler.save_anim_mp4(z1, z1, 'anim_k0_k24_256.mp4', n_frame=24, fps=12, x_dim=256, y_dim=256, scale=10.0, k1=0, k2=24)"
   ]
  },
  {
   "cell_type": "code",
   "execution_count": null,
   "id": "a38ece4b-8161-4365-89ff-e147ddf74f7d",
   "metadata": {},
   "outputs": [],
   "source": []
  }
 ],
 "metadata": {
  "kernelspec": {
   "display_name": "Python 3 (ipykernel)",
   "language": "python",
   "name": "python3"
  },
  "language_info": {
   "codemirror_mode": {
    "name": "ipython",
    "version": 3
   },
   "file_extension": ".py",
   "mimetype": "text/x-python",
   "name": "python",
   "nbconvert_exporter": "python",
   "pygments_lexer": "ipython3",
   "version": "3.8.13"
  }
 },
 "nbformat": 4,
 "nbformat_minor": 5
}
