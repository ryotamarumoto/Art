{
 "cells": [
  {
   "cell_type": "code",
   "execution_count": 2,
   "id": "8ba1589f-24ef-4c8e-8836-ddf613925e01",
   "metadata": {},
   "outputs": [],
   "source": [
    "from __future__ import absolute_import, division, print_function, unicode_literals\n",
    "\n",
    "import tensorflow as tf\n",
    "\n",
    "'''\n",
    "some helper code borrowed from:\n",
    "https://github.com/carpedm20/DCGAN-tensorflow\n",
    "'''\n",
    "\n",
    "\n",
    "def linear(input_, output_size, scope=None, stddev=1.0, bias_start=0.0, with_w=False):\n",
    "    shape = input_.get_shape().as_list()\n",
    "\n",
    "    with tf.variable_scope(scope or \"Linear\"):\n",
    "        matrix = tf.get_variable(\"Matrix\", [shape[1], output_size], tf.float32,\n",
    "                                 tf.random_normal_initializer(stddev=stddev))\n",
    "        bias = tf.get_variable(\"bias\", [output_size],\n",
    "                               initializer=tf.constant_initializer(bias_start))\n",
    "        if with_w:\n",
    "            return tf.matmul(input_, matrix) + bias, matrix, bias\n",
    "        else:\n",
    "            return tf.matmul(input_, matrix) + bias\n",
    "\n",
    "\n",
    "def fully_connected(input_, output_size, scope=None, stddev=1.0, with_bias=True):\n",
    "    shape = input_.get_shape().as_list()\n",
    "\n",
    "    with tf.variable_scope(scope or \"FC\"):\n",
    "        matrix = tf.get_variable(\"Matrix\", [shape[1], output_size], tf.float32,\n",
    "                                 tf.random_normal_initializer(stddev=stddev))\n",
    "\n",
    "        result = tf.matmul(input_, matrix)\n",
    "\n",
    "        if with_bias:\n",
    "            bias = tf.get_variable(\"bias\", [1, output_size],\n",
    "                                   initializer=tf.random_normal_initializer(stddev=stddev))\n",
    "            result += bias * tf.ones([shape[0], 1], dtype=tf.float32)\n",
    "\n",
    "        return result"
   ]
  },
  {
   "cell_type": "code",
   "execution_count": null,
   "id": "258926bf-46db-423c-a7fd-5ccde69a4800",
   "metadata": {},
   "outputs": [],
   "source": []
  }
 ],
 "metadata": {
  "kernelspec": {
   "display_name": "Python 3 (ipykernel)",
   "language": "python",
   "name": "python3"
  },
  "language_info": {
   "codemirror_mode": {
    "name": "ipython",
    "version": 3
   },
   "file_extension": ".py",
   "mimetype": "text/x-python",
   "name": "python",
   "nbconvert_exporter": "python",
   "pygments_lexer": "ipython3",
   "version": "3.8.13"
  }
 },
 "nbformat": 4,
 "nbformat_minor": 5
}
